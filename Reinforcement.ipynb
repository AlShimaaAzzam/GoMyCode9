{
  "nbformat": 4,
  "nbformat_minor": 0,
  "metadata": {
    "colab": {
      "name": "Reinforcement.ipynb",
      "provenance": [],
      "collapsed_sections": []
    },
    "kernelspec": {
      "name": "python3",
      "display_name": "Python 3"
    },
    "language_info": {
      "name": "python"
    }
  },
  "cells": [
    {
      "cell_type": "code",
      "source": [
        "import pandas as pd\n",
        "import mlxtend\n",
        "import pandas as pd\n",
        "from mlxtend.preprocessing import TransactionEncoder\n",
        "from mlxtend.frequent_patterns import apriori\n",
        "from mlxtend.frequent_patterns import association_rules\n",
        " "
      ],
      "metadata": {
        "id": "3wCR15l9qpgL"
      },
      "execution_count": 12,
      "outputs": []
    },
    {
      "cell_type": "code",
      "execution_count": 34,
      "metadata": {
        "id": "NEfsf2VsqTFp"
      },
      "outputs": [],
      "source": [
        "# Creat the dataset\n",
        "dataset = [['Skirt', 'Sneakers', 'Scarf', 'Pants', 'Hat'],\n",
        "           ['Sunglasses', 'Skirt', 'Sneakers', 'Pants', 'Hat'],\n",
        "           ['Dress', 'Sandals', 'Scarf', 'Pants', 'Heels'],\n",
        "           ['Dress', 'Necklace', 'Earrings', 'Scarf', 'Hat', 'Heels', 'Hat'],\n",
        "           ['Earrings', 'Skirt', 'Skirt', 'Scarf', 'Shirt', 'Pants']]"
      ]
    },
    {
      "cell_type": "code",
      "source": [
        "# Creating a Function for Reinforsement Learning \n",
        "def REINFORCE(DataSet):\n",
        "  #Apply one-hot-encoding on our dataset\n",
        "  te=TransactionEncoder()\n",
        "  te_ary=te.fit(dataset).transform(dataset)    \n",
        "  df=pd.DataFrame(te_ary, columns=te.columns_)\n",
        "  print (\"Data Frame\")\n",
        "  print(\"___________________________________________________________________________\")\n",
        "  print (df)\n",
        "  # Select items with 60% Support\n",
        "  print (\"items with 60% Support\")\n",
        "  print(\"___________________________________________________________________________\")\n",
        "  print (apriori(df, min_support=0.6))  \n",
        "  # Find Frequent Items\n",
        "  frequent_itemsets=apriori(df, min_support=0.6, use_colnames=True) #Instead of column indices we can use column names.\n",
        "  print (\"Frequent Items\")\n",
        "  print(\"___________________________________________________________________________\")\n",
        "  print(frequent_itemsets)\n",
        "  # Confidence Stage\n",
        "  print (\"associate itemsets with confidence over 70%\")\n",
        "  print(\"___________________________________________________________________________\")\n",
        "  print(association_rules(frequent_itemsets,metric=\"confidence\",min_threshold=0.7)) \n",
        "  # Lift Stage\n",
        "  print (\"Results\")\n",
        "  print(\"___________________________________________________________________________\")\n",
        "  print (association_rules(frequent_itemsets,metric=\"lift\",min_threshold=1.25))\n",
        "  # Export associated rules to csv file\n",
        "  df.to_csv (\"Data.csv\", index = False, header=True) \n",
        "\n",
        "            "
      ],
      "metadata": {
        "id": "CVBJtZ8Hsckk"
      },
      "execution_count": 47,
      "outputs": []
    },
    {
      "cell_type": "code",
      "source": [
        "# use reinforcement Technique \n",
        "REINFORCE(dataset)"
      ],
      "metadata": {
        "colab": {
          "base_uri": "https://localhost:8080/"
        },
        "id": "lVDk3f_dtLhr",
        "outputId": "e5f1911c-e4a1-4bfa-cb79-b2e26f01a386"
      },
      "execution_count": 44,
      "outputs": [
        {
          "output_type": "stream",
          "name": "stdout",
          "text": [
            "Data Frame\n",
            "___________________________________________________________________________\n",
            "   Dress  Earrings    Hat  Heels  ...  Shirt  Skirt  Sneakers  Sunglasses\n",
            "0  False     False   True  False  ...  False   True      True       False\n",
            "1  False     False   True  False  ...  False   True      True        True\n",
            "2   True     False  False   True  ...  False  False     False       False\n",
            "3   True      True   True   True  ...  False  False     False       False\n",
            "4  False      True  False  False  ...   True   True     False       False\n",
            "\n",
            "[5 rows x 12 columns]\n",
            "items with 60% Support\n",
            "___________________________________________________________________________\n",
            "   support itemsets\n",
            "0      0.6      (2)\n",
            "1      0.8      (5)\n",
            "2      0.8      (7)\n",
            "3      0.6      (9)\n",
            "4      0.6   (5, 7)\n",
            "5      0.6   (9, 5)\n",
            "Frequent Items\n",
            "___________________________________________________________________________\n",
            "   support        itemsets\n",
            "0      0.6           (Hat)\n",
            "1      0.8         (Pants)\n",
            "2      0.8         (Scarf)\n",
            "3      0.6         (Skirt)\n",
            "4      0.6  (Pants, Scarf)\n",
            "5      0.6  (Pants, Skirt)\n",
            "associate itemsets with confidence over 70%\n",
            "___________________________________________________________________________\n",
            "  antecedents consequents  antecedent support  ...    lift  leverage  conviction\n",
            "0     (Pants)     (Scarf)                 0.8  ...  0.9375     -0.04         0.8\n",
            "1     (Scarf)     (Pants)                 0.8  ...  0.9375     -0.04         0.8\n",
            "2     (Pants)     (Skirt)                 0.8  ...  1.2500      0.12         1.6\n",
            "3     (Skirt)     (Pants)                 0.6  ...  1.2500      0.12         inf\n",
            "\n",
            "[4 rows x 9 columns]\n",
            "Results\n",
            "___________________________________________________________________________\n",
            "  antecedents consequents  antecedent support  ...  lift  leverage  conviction\n",
            "0     (Skirt)     (Pants)                 0.6  ...  1.25      0.12         inf\n",
            "\n",
            "[1 rows x 9 columns]\n"
          ]
        }
      ]
    },
    {
      "cell_type": "code",
      "source": [
        "# import a new dataset\n",
        "dataset2=pd.read_csv(\"Market_Basket_Optimisation.csv\")"
      ],
      "metadata": {
        "id": "uVWpvWKquVG9"
      },
      "execution_count": 45,
      "outputs": []
    },
    {
      "cell_type": "code",
      "source": [
        "# use reinforcement Technique \n",
        "REINFORCE(dataset2)"
      ],
      "metadata": {
        "colab": {
          "base_uri": "https://localhost:8080/"
        },
        "id": "8njMC0CRw7b-",
        "outputId": "9db0f678-e1ec-4c11-dcc5-4ddff2944251"
      },
      "execution_count": 49,
      "outputs": [
        {
          "output_type": "stream",
          "name": "stdout",
          "text": [
            "Data Frame\n",
            "___________________________________________________________________________\n",
            "   Dress  Earrings    Hat  Heels  ...  Shirt  Skirt  Sneakers  Sunglasses\n",
            "0  False     False   True  False  ...  False   True      True       False\n",
            "1  False     False   True  False  ...  False   True      True        True\n",
            "2   True     False  False   True  ...  False  False     False       False\n",
            "3   True      True   True   True  ...  False  False     False       False\n",
            "4  False      True  False  False  ...   True   True     False       False\n",
            "\n",
            "[5 rows x 12 columns]\n",
            "items with 60% Support\n",
            "___________________________________________________________________________\n",
            "   support itemsets\n",
            "0      0.6      (2)\n",
            "1      0.8      (5)\n",
            "2      0.8      (7)\n",
            "3      0.6      (9)\n",
            "4      0.6   (5, 7)\n",
            "5      0.6   (9, 5)\n",
            "Frequent Items\n",
            "___________________________________________________________________________\n",
            "   support        itemsets\n",
            "0      0.6           (Hat)\n",
            "1      0.8         (Pants)\n",
            "2      0.8         (Scarf)\n",
            "3      0.6         (Skirt)\n",
            "4      0.6  (Pants, Scarf)\n",
            "5      0.6  (Pants, Skirt)\n",
            "associate itemsets with confidence over 70%\n",
            "___________________________________________________________________________\n",
            "  antecedents consequents  antecedent support  ...    lift  leverage  conviction\n",
            "0     (Pants)     (Scarf)                 0.8  ...  0.9375     -0.04         0.8\n",
            "1     (Scarf)     (Pants)                 0.8  ...  0.9375     -0.04         0.8\n",
            "2     (Pants)     (Skirt)                 0.8  ...  1.2500      0.12         1.6\n",
            "3     (Skirt)     (Pants)                 0.6  ...  1.2500      0.12         inf\n",
            "\n",
            "[4 rows x 9 columns]\n",
            "Results\n",
            "___________________________________________________________________________\n",
            "  antecedents consequents  antecedent support  ...  lift  leverage  conviction\n",
            "0     (Skirt)     (Pants)                 0.6  ...  1.25      0.12         inf\n",
            "\n",
            "[1 rows x 9 columns]\n"
          ]
        }
      ]
    },
    {
      "cell_type": "code",
      "source": [
        ""
      ],
      "metadata": {
        "id": "1ks1cNpxyTmI"
      },
      "execution_count": null,
      "outputs": []
    }
  ]
}